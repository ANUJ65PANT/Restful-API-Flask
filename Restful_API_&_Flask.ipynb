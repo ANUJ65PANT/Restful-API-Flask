{
  "nbformat": 4,
  "nbformat_minor": 0,
  "metadata": {
    "colab": {
      "provenance": []
    },
    "kernelspec": {
      "name": "python3",
      "display_name": "Python 3"
    },
    "language_info": {
      "name": "python"
    }
  },
  "cells": [
    {
      "cell_type": "markdown",
      "source": [],
      "metadata": {
        "id": "6RCd8D4hNW-m"
      }
    },
    {
      "cell_type": "code",
      "execution_count": null,
      "metadata": {
        "id": "60_6DZkCNNNI"
      },
      "outputs": [],
      "source": [
        "1. What is a RESTful API?\n",
        "-> A RESTful API (Representational State Transfer API) is a web service that follows REST principles: statelessness, resource-based URLs, and use of standard HTTP methods (GET, POST, PUT, DELETE). It enables communication between client and server using standard web protocols.\n",
        "\n",
        "2. Explain the concept of API specification.\n",
        "-> An API specification defines the structure, endpoints, request/response formats, parameters, and authentication methods of an API. Examples include OpenAPI (formerly Swagger), which helps in documenting and designing APIs clearly for developers.\n",
        "\n",
        "3. What is Flask, and why is it popular for building APIs?\n",
        "-> Flask is a lightweight, Python-based web framework. It's popular for APIs due to its simplicity, minimalism, flexibility, and the large number of extensions (like Flask-SQLAlchemy and Flask-RESTful) that support RESTful design.\n",
        "\n",
        "4. What is routing in Flask?\n",
        "-> Routing in Flask maps URLs (routes) to Python functions. For example, @app.route('/hello') links the URL /hello to a specific function that handles the request.\n",
        "\n",
        "5. How do you create a simple Flask application?\n",
        "->To create a simple Flask application, you first need to install Flask using a package manager like pip. Once installed, you start by importing Flask into your Python script and then create an instance of the Flask application.\n",
        "\n",
        "Next, you define routes—these are URL patterns that map to specific functions which handle requests and return responses. For example, a route like '/' usually represents the homepage. Each route is associated with a function that returns a response such as a message or HTML content.\n",
        "\n",
        "Finally, you run the application using a built-in development server provided by Flask. When the server is running, you can open your web browser and go to the specified URL (usually http://127.0.0.1:5000/) to see the output from your defined route.\n",
        "6. What are HTTP methods used in RESTful APIs?\n",
        "\n",
        "-> GET – Retrieve data\n",
        "\n",
        "POST – Create new data\n",
        "\n",
        "PUT – Update existing data\n",
        "\n",
        "DELETE – Delete data\n",
        "\n",
        "PATCH – Partially update data\n",
        "\n",
        "7. What is the purpose of the @app.route() decorator in Flask?\n",
        "-> It tells Flask what URL should trigger a specific function. It links a URL pattern to a view function that returns a response.\n",
        "\n",
        "8. What is the difference between GET and POST HTTP methods?\n",
        "\n",
        "-> GET: Retrieves data, parameters are sent in the URL, idempotent.\n",
        "\n",
        "POST: Submits data to be processed, parameters are sent in the body, not idempotent.\n",
        "\n",
        "9. How do you handle errors in Flask APIs?\n",
        "Use error handlers:\n",
        "\n",
        "@app.errorhandler(404)\n",
        "def not_found(e):\n",
        "    return {'error': 'Not found'}, 404\n",
        "You can also use try-except blocks in your view functions.\n",
        "\n",
        "10. How do you connect Flask to a SQL database?\n",
        "Use Flask-SQLAlchemy:\n",
        "\n",
        "from flask_sqlalchemy import SQLAlchemy\n",
        "\n",
        "app.config['SQLALCHEMY_DATABASE_URI'] = 'sqlite:///data.db'\n",
        "db = SQLAlchemy(app)\n",
        "11. What is the role of Flask-SQLAlchemy?\n",
        "-> It provides an ORM (Object Relational Mapper) for Flask, allowing you to interact with databases using Python classes instead of SQL queries directly.\n",
        "\n",
        "12. What are Flask blueprints, and how are they useful?\n",
        "-> Blueprints allow you to organize your Flask app into reusable components/modules. Useful for large applications to keep routes and logic separated (e.g., auth, blog modules).\n",
        "\n",
        "13. What is the purpose of Flask's request object?\n",
        "-> The request object gives access to data from incoming HTTP requests, including form data, JSON, headers, and query parameters.\n",
        "\n",
        "14. How do you create a RESTful API endpoint using Flask?\n",
        "To create a RESTful API endpoint using Flask, you define a specific URL route that clients can send requests to, such as /users or /products. This route is linked to a function that handles the incoming HTTP requests—like GET for retrieving data, POST for creating data, PUT for updating, and DELETE for removing data.\n",
        "\n",
        "You also specify which HTTP methods the endpoint should accept. Inside the function, you process the request, interact with any necessary data sources (like a database), and return a response in a structured format—typically JSON.\n",
        "\n",
        "Using Flask's built-in tools and extensions like Flask-RESTful, you can organize these endpoints clearly, ensuring each one represents a specific resource and supports standard REST operations. This makes the API consistent, scalable, and easy for other developers or systems to use.\n",
        "\n",
        "\n",
        "15. What is the purpose of Flask's jsonify() function?\n",
        "-> jsonify() serializes Python dictionaries to JSON and sets the correct content-type (application/json) in the HTTP response.\n",
        "\n",
        "16. Explain Flask’s url_for() function.\n",
        "-> url_for('function_name') generates the URL for a given view function. It’s useful to avoid hardcoding URLs.\n",
        "\n",
        "Example:\n",
        "\n",
        "url_for('home')  # returns '/'\n",
        "17. How does Flask handle static files (CSS, JavaScript, etc.)?\n",
        "-> Flask serves static files from the /static/ folder by default. Use in HTML:\n",
        "\n",
        "\n",
        "\n",
        "<link rel=\"stylesheet\" href=\"{{ url_for('static', filename='style.css') }}\">\n",
        "18. What is an API specification, and how does it help in building a Flask API?\n",
        "-> An API specification (like OpenAPI) documents how the API behaves. It helps developers understand, test, and use the API effectively and consistently.\n",
        "\n",
        "19. What are HTTP status codes, and why are they important in a Flask API?\n",
        "-> HTTP status codes indicate the result of a request:\n",
        "\n",
        "200: OK\n",
        "\n",
        "201: Created\n",
        "\n",
        "400: Bad Request\n",
        "\n",
        "404: Not Found\n",
        "\n",
        "500: Server Error\n",
        "They inform clients about the success or failure of their request.\n",
        "\n",
        "20. How do you handle POST requests in Flask?\n",
        "\n",
        "\n",
        "from flask import request\n",
        "\n",
        "@app.route('/submit', methods=['POST'])\n",
        "def submit():\n",
        "    data = request.json\n",
        "    return jsonify(data)\n",
        "21. How would you secure a Flask API?\n",
        "\n",
        "-> Use HTTPS\n",
        "\n",
        "Implement authentication (e.g., JWT, OAuth)\n",
        "\n",
        "Validate user input\n",
        "\n",
        "Limit request rate\n",
        "\n",
        "Use secure headers\n",
        "\n",
        "Avoid exposing sensitive data\n",
        "\n",
        "22. What is the significance of the Flask-RESTful extension?\n",
        "-> It simplifies creating RESTful APIs by providing resources, automatic request parsing, and better organization of code using class-based views.\n",
        "\n",
        "23. What is the role of Flask’s session object?\n",
        "-> The session object allows storing data between requests for a user (e.g., login state). It uses cookies and is signed using a secret key.\n",
        "\n",
        "\n"
      ]
    },
    {
      "cell_type": "code",
      "source": [
        "#1. How do you create a basic Flask application?\n",
        "\n",
        "from flask import Flask\n",
        "\n",
        "app = Flask(__name__)\n",
        "\n",
        "@app.route('/')\n",
        "def home():\n",
        "    return 'Hello, Flask!'\n",
        "\n",
        "if __name__ == '__main__':\n",
        "    app.run(debug=True)\n"
      ],
      "metadata": {
        "colab": {
          "base_uri": "https://localhost:8080/"
        },
        "id": "jpLVmDhlP8m5",
        "outputId": "e248978a-cbf5-413c-f9e9-fa81085dd540"
      },
      "execution_count": 40,
      "outputs": [
        {
          "output_type": "stream",
          "name": "stdout",
          "text": [
            " * Serving Flask app '__main__'\n",
            " * Debug mode: on\n"
          ]
        },
        {
          "output_type": "stream",
          "name": "stderr",
          "text": [
            "INFO:werkzeug:\u001b[31m\u001b[1mWARNING: This is a development server. Do not use it in a production deployment. Use a production WSGI server instead.\u001b[0m\n",
            " * Running on http://127.0.0.1:5000\n",
            "INFO:werkzeug:\u001b[33mPress CTRL+C to quit\u001b[0m\n",
            "INFO:werkzeug: * Restarting with stat\n"
          ]
        }
      ]
    },
    {
      "cell_type": "code",
      "source": [
        "#2. How do you serve static files like images or CSS in Flask?\n",
        "from flask import Flask, render_template\n",
        "\n",
        "app = Flask(__name__)\n",
        "\n",
        "@app.route('/')\n",
        "def home():\n",
        "    return render_template('index.html')\n",
        "\n",
        "if __name__ == '__main__':\n",
        "    app.run(debug=True)\n",
        "\n",
        "\n"
      ],
      "metadata": {
        "colab": {
          "base_uri": "https://localhost:8080/"
        },
        "id": "zz1ldeQuXIRt",
        "outputId": "90323859-5335-42a2-d2f7-66cf6d5c1312"
      },
      "execution_count": 19,
      "outputs": [
        {
          "output_type": "stream",
          "name": "stdout",
          "text": [
            " * Serving Flask app '__main__'\n",
            " * Debug mode: on\n"
          ]
        },
        {
          "output_type": "stream",
          "name": "stderr",
          "text": [
            "INFO:werkzeug:\u001b[31m\u001b[1mWARNING: This is a development server. Do not use it in a production deployment. Use a production WSGI server instead.\u001b[0m\n",
            " * Running on http://127.0.0.1:5000\n",
            "INFO:werkzeug:\u001b[33mPress CTRL+C to quit\u001b[0m\n",
            "INFO:werkzeug: * Restarting with stat\n"
          ]
        }
      ]
    },
    {
      "cell_type": "code",
      "source": [
        "#3. How do you define different routes with different HTTP methods in Flask?\n",
        "\n",
        "from flask import request\n",
        "\n",
        "@app.route('/data', methods=['GET', 'POST'])\n",
        "def data():\n",
        "    if request.method == 'GET':\n",
        "        return 'You sent a GET request'\n",
        "    elif request.method == 'POST':\n",
        "        return 'You sent a POST request'"
      ],
      "metadata": {
        "id": "geYBg8wuYTL-"
      },
      "execution_count": 20,
      "outputs": []
    },
    {
      "cell_type": "code",
      "source": [
        "#4. How do you render HTML templates in Flask?\n",
        "\n",
        "\n",
        "\n",
        "\n",
        "\n",
        "\n",
        "from flask import render_template\n",
        "\n",
        "@app.route('/')\n",
        "def index():\n",
        "    return render_template('index.html')\n",
        "\n",
        "\n",
        "\n"
      ],
      "metadata": {
        "id": "03xk5cRVVhql"
      },
      "execution_count": 22,
      "outputs": []
    },
    {
      "cell_type": "code",
      "source": [
        "#5. How can you generate URLs for routes in Flask using url_for?\n",
        "\n",
        "from flask import url_for\n",
        "\n",
        "@app.route('/profile')\n",
        "def profile():\n",
        "    return 'This is the profile page.'\n",
        "\n",
        "@app.route('/go-home')\n",
        "def go_home():\n",
        "    return redirect(url_for('profile'))"
      ],
      "metadata": {
        "id": "ybB5v7l5Y687"
      },
      "execution_count": 23,
      "outputs": []
    },
    {
      "cell_type": "code",
      "source": [
        "#6. How do you handle forms in Flask?\n",
        "\n",
        "from flask import request\n",
        "\n",
        "@app.route('/form', methods=['GET', 'POST'])\n",
        "def form():\n",
        "    if request.method == 'POST':\n",
        "        name = request.form['name']\n",
        "        return f'Hello, {name}'\n",
        "    return '''\n",
        "        <form method=\"POST\">\n",
        "            Name: <input type=\"text\" name=\"name\">\n",
        "            <input type=\"submit\">\n",
        "        </form>\n",
        "    '''"
      ],
      "metadata": {
        "id": "fudi8cmcZP2h"
      },
      "execution_count": 24,
      "outputs": []
    },
    {
      "cell_type": "markdown",
      "source": [],
      "metadata": {
        "id": "PQSTHnKpNUEN"
      }
    },
    {
      "cell_type": "code",
      "source": [
        "#7. How can you validate form data in Flask?\n",
        "\n",
        "@app.route('/submit', methods=['POST'])\n",
        "def submit():\n",
        "    name = request.form.get('name')\n",
        "    if not name:\n",
        "        return 'Name is required', 400\n",
        "    return f'Hello, {name}'"
      ],
      "metadata": {
        "id": "eI5G9XqSZXoZ"
      },
      "execution_count": 25,
      "outputs": []
    },
    {
      "cell_type": "code",
      "source": [
        "#8. How do you manage sessions in Flask?\n",
        "\n",
        "from flask import session\n",
        "\n",
        "app.secret_key = 'your_secret_key'\n",
        "\n",
        "@app.route('/login')\n",
        "def login():\n",
        "    session['user'] = 'John'\n",
        "    return 'Logged in as John'\n",
        "\n",
        "@app.route('/logout')\n",
        "def logout():\n",
        "    session.pop('user', None)\n",
        "    return 'Logged out'"
      ],
      "metadata": {
        "id": "AZvFZ0e7ZgXn"
      },
      "execution_count": 26,
      "outputs": []
    },
    {
      "cell_type": "code",
      "source": [
        "#9. How do you redirect to a different route in Flask?\n",
        "\n",
        "from flask import redirect\n",
        "\n",
        "@app.route('/old')\n",
        "def old():\n",
        "    return redirect('/new')\n",
        "\n",
        "@app.route('/new')\n",
        "def new():\n",
        "    return 'You have been redirected'"
      ],
      "metadata": {
        "id": "CeJDHcshZgQ4"
      },
      "execution_count": 27,
      "outputs": []
    },
    {
      "cell_type": "code",
      "source": [
        "#10. How do you handle errors in Flask (e.g., 404)?\n",
        "\n",
        "@app.errorhandler(404)\n",
        "def not_found(e):\n",
        "    return 'Page not found', 404"
      ],
      "metadata": {
        "id": "U-GoBLnwZwZ2"
      },
      "execution_count": 28,
      "outputs": []
    },
    {
      "cell_type": "code",
      "source": [
        "#11. How do you structure a Flask app using Blueprints?\n",
        "\n",
        "from flask import Flask, Blueprint, render_template_string\n",
        "\n",
        "# Create the Blueprint\n",
        "auth_bp = Blueprint('auth', __name__)\n",
        "\n",
        "# Define a route inside the blueprint\n",
        "@auth_bp.route('/login')\n",
        "def login():\n",
        "    # Using render_template_string to avoid separate HTML files\n",
        "    return render_template_string(\"\"\"\n",
        "        <!DOCTYPE html>\n",
        "        <html>\n",
        "        <head><title>Login</title></head>\n",
        "        <body>\n",
        "            <h2>This is the Login Page</h2>\n",
        "        </body>\n",
        "        </html>\n",
        "    \"\"\")\n",
        "\n",
        "# Create the Flask app\n",
        "app = Flask(__name__)\n",
        "\n",
        "# Register the blueprint with a URL prefix\n",
        "app.register_blueprint(auth_bp, url_prefix='/auth')\n",
        "\n",
        "# Define a base route in the main app\n",
        "@app.route('/')\n",
        "def home():\n",
        "    return 'Home Page - Main App'\n",
        "\n",
        "# Run the app\n",
        "if __name__ == '__main__':\n",
        "    app.run(debug=True)\n",
        "\n",
        "\n",
        "\n"
      ],
      "metadata": {
        "id": "4s0j4or0Z-TI",
        "outputId": "6a780cca-44cb-4610-f13e-5da3ab957a06",
        "colab": {
          "base_uri": "https://localhost:8080/"
        }
      },
      "execution_count": 31,
      "outputs": [
        {
          "output_type": "stream",
          "name": "stdout",
          "text": [
            " * Serving Flask app '__main__'\n",
            " * Debug mode: on\n"
          ]
        },
        {
          "output_type": "stream",
          "name": "stderr",
          "text": [
            "INFO:werkzeug:\u001b[31m\u001b[1mWARNING: This is a development server. Do not use it in a production deployment. Use a production WSGI server instead.\u001b[0m\n",
            " * Running on http://127.0.0.1:5000\n",
            "INFO:werkzeug:\u001b[33mPress CTRL+C to quit\u001b[0m\n",
            "INFO:werkzeug: * Restarting with stat\n"
          ]
        }
      ]
    },
    {
      "cell_type": "code",
      "source": [
        "#12. How do you define a custom Jinja filter in Flask?\n",
        "\n",
        "def reverse_string(s):\n",
        "    return s[::-1]\n",
        "\n",
        "app.jinja_env.filters['reverse'] = reverse_string"
      ],
      "metadata": {
        "id": "vdq_nDCBbmAX"
      },
      "execution_count": 32,
      "outputs": []
    },
    {
      "cell_type": "code",
      "source": [
        "#13. How can you redirect with query parameters in Flask?\n",
        "\n",
        "from flask import redirect, url_for\n",
        "\n",
        "@app.route('/send')\n",
        "def send():\n",
        "    return redirect(url_for('receive', msg='Hello'))\n",
        "\n",
        "@app.route('/receive')\n",
        "def receive():\n",
        "    msg = request.args.get('msg')\n",
        "    return f'Message received: {msg}'"
      ],
      "metadata": {
        "id": "1uHAX6ERbv-3"
      },
      "execution_count": 33,
      "outputs": []
    },
    {
      "cell_type": "code",
      "source": [
        "#14. How do you return JSON responses in Flask?\n",
        "from flask import Flask, jsonify\n",
        "\n",
        "app = Flask(__name__)\n",
        "\n",
        "@app.route('/api/data')\n",
        "def get_data():\n",
        "    data = {\n",
        "        'name': 'Alice',\n",
        "        'age': 30,\n",
        "        'is_active': True\n",
        "    }\n",
        "    return jsonify(data)\n",
        "\n",
        "if __name__ == '__main__':\n",
        "    app.run(debug=True)\n",
        "\n"
      ],
      "metadata": {
        "id": "zWl_zisIb5I6",
        "outputId": "e8742b7d-ea24-4fd0-d8fb-e84c68a6e960",
        "colab": {
          "base_uri": "https://localhost:8080/"
        }
      },
      "execution_count": 36,
      "outputs": [
        {
          "output_type": "stream",
          "name": "stdout",
          "text": [
            " * Serving Flask app '__main__'\n",
            " * Debug mode: on\n"
          ]
        },
        {
          "output_type": "stream",
          "name": "stderr",
          "text": [
            "INFO:werkzeug:\u001b[31m\u001b[1mWARNING: This is a development server. Do not use it in a production deployment. Use a production WSGI server instead.\u001b[0m\n",
            " * Running on http://127.0.0.1:5000\n",
            "INFO:werkzeug:\u001b[33mPress CTRL+C to quit\u001b[0m\n",
            "INFO:werkzeug: * Restarting with stat\n"
          ]
        }
      ]
    },
    {
      "cell_type": "code",
      "source": [
        "#15. How do you capture URL parameters in Flask?\n",
        "from flask import Flask\n",
        "\n",
        "app = Flask(__name__)\n",
        "\n",
        "@app.route('/user/<username>')\n",
        "def show_user_profile(username):\n",
        "    return f'Hello, {username}! Welcome to your profile.'\n",
        "\n",
        "@app.route('/post/<int:post_id>')\n",
        "def show_post(post_id):\n",
        "    return f'This is post number {post_id}.'\n",
        "\n",
        "if __name__ == '__main__':\n",
        "    app.run(debug=True)\n"
      ],
      "metadata": {
        "id": "Nm_FZoL9dSbA",
        "outputId": "a236a4d5-b305-43d1-fe30-e40ba14419ac",
        "colab": {
          "base_uri": "https://localhost:8080/"
        }
      },
      "execution_count": 39,
      "outputs": [
        {
          "output_type": "stream",
          "name": "stdout",
          "text": [
            " * Serving Flask app '__main__'\n",
            " * Debug mode: on\n"
          ]
        },
        {
          "output_type": "stream",
          "name": "stderr",
          "text": [
            "INFO:werkzeug:\u001b[31m\u001b[1mWARNING: This is a development server. Do not use it in a production deployment. Use a production WSGI server instead.\u001b[0m\n",
            " * Running on http://127.0.0.1:5000\n",
            "INFO:werkzeug:\u001b[33mPress CTRL+C to quit\u001b[0m\n",
            "INFO:werkzeug: * Restarting with stat\n"
          ]
        }
      ]
    }
  ]
}